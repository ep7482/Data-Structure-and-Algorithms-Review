{
 "cells": [
  {
   "cell_type": "markdown",
   "id": "0cb955dd",
   "metadata": {},
   "source": [
    "## Linked List\n",
    "<hr>\n",
    "Like arrays, a linked list is used to represent sequential data. It is a linear collection of data element, whose order is not given by their physical placement in memory as opposed to arrays, where data is stored in sequential blocks of memory. Instead, each element contains an address of the next element. It is a data strucutre consisting of a collection of nodes which together represents a sequence. Each node contains: data, reference to the next node in the sequence. \n",
    "<br><br>\n",
    "<ins>Advantages</ins> - Insertion and deletion of a node in a list (given its location) is O(1), whereas in arrays the following elements must be shifted\n",
    "<br>\n",
    "<ins>Disadvantages</ins> - Access time is linear, you have to traverse from the start, O(n).\n",
    "\n",
    "### Types of linked list\n",
    "<hr>\n",
    "<ins>Singly linked list</ins> - A linked list where each node points to the next node and the last node points to null.\n",
    "<br>\n",
    "<ins>Doubly linked list</ins> - A linked where each node has 2 pointers, <i>next</i> which points to the next node, <i> prev</i> which points to the previous node. The <i>prev</i> pointer of the first node and the <i>next</i> pointer of the last node points to null.\n",
    "<br>\n",
    "<ins>Circular linked list</ins> - A singly linked list where the last node points back to the first node. There is a circular double linked list variant where the <i>prev</i> pointer of the first node points to the last node and the <i>next</i> pointer of the last node points to the first node.\n",
    "\n",
    "<img src=\"Images/linked-list.png\" width = 700>\n",
    "\n",
    "\n",
    "### Time complexity\n",
    "<hr>\n",
    "\n",
    "|Operation|Big-O|Note|\n",
    "|:--------|:----|----|\n",
    "|Access|O(n)|--|\n",
    "|Search|O(n)|--|\n",
    "|Insert|O(1)|Assume you have traversed to the node to be inserted|\n",
    "|Remove|O(1)|Assume you have traversed to the node to be removed|\n",
    "\n",
    "### Common routines\n",
    "<hr>\n",
    "<ul>\n",
    "    <li>Counting the number of nodes in a linked list</li>\n",
    "    <li>Reversing a linked-list in place</li>\n",
    "    <li>Finding the middle node of a linked-list using 2 pointers (fast/slow)</li>\n",
    "    <li>Merging 2 linked-list together</li>\n",
    "</ul>\n",
    "\n",
    "### Corner Cases\n",
    "<hr>\n",
    "<ul>\n",
    "    <li>Empty linked list (head is null)</li>\n",
    "    <li>Single node</li>\n",
    "    <li>Two nodes</li>\n",
    "    <li>Linked-list has cycles</li>\n",
    "</ul>\n",
    "\n",
    "### Techniques\n",
    "<hr>\n",
    "\n",
    "#### Sentinel/dummy nodes\n",
    "Adding a dummy node at the head and/or tail might help handle edge cases where operations have to be preformed at the head or tail. The presence of a dummy nodes essentially ensures that operations will never have to be done on the head or tails thereby removing the headache of writing conditional checks to deal with null pointers. \n",
    "\n",
    "#### Two Pointers\n",
    "<ul>\n",
    "    <li><ins>Getting the kth from the last node</ins> - have 2 pointers, where one is k nodes ahead of the other. When the node ahead reaches the end, the other node is k nodes behind.</li>\n",
    "    <li><ins>Detecting cycles</ins> - have 2 pointers, where one pointer increments twice as much as the other, if the 2 points meet, there's a cycle.</li>\n",
    "    <li><ins>Getting the middle node</ins> - have 2 pointers, where one poninter increments twice as fast as the other. When the fast node reaches the end of the list, the slower node will be at the middle. </li>\n",
    "</ul>\n",
    "\n",
    "#### Using Space\n",
    "Many linked-list problems can be easily solved by creating a new linked-list and adding nodes to the new linked list with the final result. However, this takes up more space and makes the question less challenging. Do in-place instead.\n",
    "\n",
    "### Elegant Modification Operations\n",
    "<hr>\n",
    "You can modify the <i>next</i> pointer and data of a linked list. Common operations are:\n",
    "<ul>\n",
    "    <li><ins>Truncate a list</ins> - set the <i>next</i> pointer to null at the last element</li>\n",
    "    <li><ins>Swapping values of nodes</ins> - just swap the value of 2 nodes, no need to swap the next pointer</li>\n",
    "    <li><ins>Combining 2 lists</ins> - attach the head of the second list to the tail of the first list</li>\n",
    "</ul>\n",
    "\n",
    "### General operations for linked list\n",
    "<hr>\n",
    "<img src=\"Images/link-list-insert.jpg\" width = 600>\n",
    "<img src=\"Images/link-list-delete.png\" width = 600>\n"
   ]
  },
  {
   "cell_type": "code",
   "execution_count": 28,
   "id": "9acc63fb",
   "metadata": {},
   "outputs": [],
   "source": [
    "import time\n",
    "class Node:\n",
    "    def __init__(self, val):\n",
    "        self.val = val\n",
    "        self.next = None\n",
    "\n",
    "A = Node('A')\n",
    "B = Node('B')\n",
    "C = Node('C')\n",
    "D = Node('D')\n",
    "\n",
    "A.next = B\n",
    "B.next = C\n",
    "C.next = D\n",
    "\n",
    "# A -> B -> C -> D\n",
    "\n",
    "def printLinkedList(head):\n",
    "    if head == None:\n",
    "        return\n",
    "    print(head.val)\n",
    "    printLinkedList(head.next)\n",
    "    \n",
    "####### Iterative Traversal #############\n",
    "#     current = head\n",
    "#     while current != None:\n",
    "#         print(current.val)\n",
    "#         current = current.next"
   ]
  },
  {
   "cell_type": "code",
   "execution_count": 29,
   "id": "2ff0673b",
   "metadata": {},
   "outputs": [
    {
     "name": "stdout",
     "output_type": "stream",
     "text": [
      "A\n",
      "B\n",
      "C\n",
      "D\n"
     ]
    }
   ],
   "source": [
    "printLinkedList(A)"
   ]
  },
  {
   "cell_type": "code",
   "execution_count": 30,
   "id": "21993505",
   "metadata": {},
   "outputs": [
    {
     "data": {
      "text/plain": [
       "['A', 'B', 'C', 'D']"
      ]
     },
     "execution_count": 30,
     "metadata": {},
     "output_type": "execute_result"
    }
   ],
   "source": [
    "def linkedListValues(head):\n",
    "    output_values = []\n",
    "    current = head\n",
    "    while current != None:\n",
    "        output_values.append(current.val)\n",
    "        current = current.next\n",
    "    return  output_values\n",
    "\n",
    "linkedListValues(A)"
   ]
  },
  {
   "cell_type": "code",
   "execution_count": 31,
   "id": "c3d23ac8",
   "metadata": {},
   "outputs": [
    {
     "data": {
      "text/plain": [
       "['A', 'B', 'C', 'D']"
      ]
     },
     "execution_count": 31,
     "metadata": {},
     "output_type": "execute_result"
    }
   ],
   "source": [
    "def linkedListValuesRecursiveHelper(current, output_values):\n",
    "    if current is None:\n",
    "        return\n",
    "    output_values.append(current.val)\n",
    "    linkedListValuesRecursiveHelper(current.next, output_values)\n",
    "\n",
    "def linkedListValuesRecursive(head):\n",
    "    vals = []\n",
    "    linkedListValuesRecursiveHelper(head, vals)\n",
    "    return vals\n",
    "\n",
    "linkedListValuesRecursive(A)"
   ]
  },
  {
   "cell_type": "code",
   "execution_count": 32,
   "id": "be495190",
   "metadata": {},
   "outputs": [
    {
     "data": {
      "text/plain": [
       "20"
      ]
     },
     "execution_count": 32,
     "metadata": {},
     "output_type": "execute_result"
    }
   ],
   "source": [
    "def sumList(head):\n",
    "    output_sum = 0\n",
    "    current = head\n",
    "    while current is not None:\n",
    "        output_sum += current.val\n",
    "        current = current.next\n",
    "    return output_sum\n",
    "\n",
    "A = Node(2)\n",
    "B = Node(8)\n",
    "C = Node(9)\n",
    "D = Node(1)\n",
    "\n",
    "A.next = B\n",
    "B.next = C\n",
    "C.next = D\n",
    "\n",
    "sumList(A)"
   ]
  },
  {
   "cell_type": "code",
   "execution_count": 33,
   "id": "a226a178",
   "metadata": {},
   "outputs": [
    {
     "data": {
      "text/plain": [
       "20"
      ]
     },
     "execution_count": 33,
     "metadata": {},
     "output_type": "execute_result"
    }
   ],
   "source": [
    "def sumListRecursive(head):\n",
    "    if head is None:\n",
    "        return 0\n",
    "    return head.val + sumListRecursive(head.next)\n",
    "\n",
    "    \n",
    "sumListRecursive(A)"
   ]
  },
  {
   "cell_type": "code",
   "execution_count": 34,
   "id": "7c74a221",
   "metadata": {},
   "outputs": [
    {
     "data": {
      "text/plain": [
       "True"
      ]
     },
     "execution_count": 34,
     "metadata": {},
     "output_type": "execute_result"
    }
   ],
   "source": [
    "def linkedListFind(head, target):\n",
    "    current = head\n",
    "    while current is not None:\n",
    "        if current.val == target:\n",
    "            return True\n",
    "        current = current.next\n",
    "    return False\n",
    "\n",
    "linkedListFind(A, 1)"
   ]
  },
  {
   "cell_type": "code",
   "execution_count": 35,
   "id": "90ce6e78",
   "metadata": {},
   "outputs": [
    {
     "data": {
      "text/plain": [
       "True"
      ]
     },
     "execution_count": 35,
     "metadata": {},
     "output_type": "execute_result"
    }
   ],
   "source": [
    "def linkedListFindRecursive(head, target):\n",
    "    if head is None:\n",
    "        return False\n",
    "    if head.val == target:\n",
    "        return True\n",
    "    return linkedListFindRecursive(head.next, target)\n",
    "    \n",
    "linkedListFindRecursive(A, 1)"
   ]
  },
  {
   "cell_type": "code",
   "execution_count": 36,
   "id": "8c374f35",
   "metadata": {},
   "outputs": [
    {
     "name": "stdout",
     "output_type": "stream",
     "text": [
      "21.599999999999998\n"
     ]
    }
   ],
   "source": [
    "height = 100\n",
    "bounce = 1\n",
    "while bounce <= 3:\n",
    "    height = height * (3/5)\n",
    "    bounce += 1\n",
    "nheight = height\n",
    "print(nheight)"
   ]
  },
  {
   "cell_type": "code",
   "execution_count": 37,
   "id": "575c01f8",
   "metadata": {},
   "outputs": [
    {
     "data": {
      "text/plain": [
       "[2, 8, 9, 1]"
      ]
     },
     "execution_count": 37,
     "metadata": {},
     "output_type": "execute_result"
    }
   ],
   "source": [
    "linkedListValues(A)"
   ]
  },
  {
   "cell_type": "code",
   "execution_count": 38,
   "id": "07f76257",
   "metadata": {},
   "outputs": [],
   "source": [
    "def getNodeValue(head, index):\n",
    "    current = head\n",
    "    while index != 0 and current is not None:\n",
    "        index -= 1\n",
    "        current = current.next\n",
    "    print(index)\n",
    "    if index != 0 or current is None:\n",
    "        return -1\n",
    "    return current.val"
   ]
  },
  {
   "cell_type": "code",
   "execution_count": 39,
   "id": "c39b1e0d",
   "metadata": {},
   "outputs": [
    {
     "name": "stdout",
     "output_type": "stream",
     "text": [
      "0\n"
     ]
    },
    {
     "data": {
      "text/plain": [
       "-1"
      ]
     },
     "execution_count": 39,
     "metadata": {},
     "output_type": "execute_result"
    }
   ],
   "source": [
    "getNodeValue(A, 4)"
   ]
  },
  {
   "cell_type": "code",
   "execution_count": 42,
   "id": "e1fb7091",
   "metadata": {},
   "outputs": [],
   "source": [
    "def getNodeValueRecursive(head, index):\n",
    "    if index == 0:\n",
    "        return head.val\n",
    "    if head is None:\n",
    "        return -1\n",
    "#     return linkedListValueRecursive(head.next, index - 1)\n",
    "    return getNodeValueRecursive(head.next, index - 1)"
   ]
  },
  {
   "cell_type": "code",
   "execution_count": 43,
   "id": "9db25833",
   "metadata": {},
   "outputs": [
    {
     "data": {
      "text/plain": [
       "9"
      ]
     },
     "execution_count": 43,
     "metadata": {},
     "output_type": "execute_result"
    }
   ],
   "source": [
    "getNodeValueRecursive(A, 2)"
   ]
  },
  {
   "cell_type": "code",
   "execution_count": 44,
   "id": "5113b543",
   "metadata": {},
   "outputs": [],
   "source": [
    "A = Node(2)\n",
    "B = Node(8)\n",
    "C = Node(9)\n",
    "D = Node(1)\n",
    "\n",
    "A.next = B\n",
    "B.next = C\n",
    "C.next = D\n",
    "\n",
    "def reverseLinkedList(head):\n",
    "    if head is None:\n",
    "        return -1\n",
    "    prev = None\n",
    "    nex = None\n",
    "    current = head\n",
    "    \n",
    "    while current is not None:\n",
    "        print(linkedListValues(current))\n",
    "        nex = current.next\n",
    "        current.next = prev\n",
    "        prev = current\n",
    "        current = nex\n",
    "    return prev"
   ]
  },
  {
   "cell_type": "code",
   "execution_count": 45,
   "id": "fea9775c",
   "metadata": {},
   "outputs": [
    {
     "name": "stdout",
     "output_type": "stream",
     "text": [
      "[2, 8, 9, 1]\n",
      "[8, 9, 1]\n",
      "[9, 1]\n",
      "[1]\n",
      "[1, 9, 8, 2]\n"
     ]
    }
   ],
   "source": [
    "print(linkedListValues(reverseLinkedList(A)))"
   ]
  },
  {
   "cell_type": "code",
   "execution_count": 46,
   "id": "e8b7f87d",
   "metadata": {},
   "outputs": [],
   "source": [
    "A = Node(2)\n",
    "B = Node(8)\n",
    "C = Node(9)\n",
    "D = Node(1)\n",
    "\n",
    "A.next = B\n",
    "B.next = C\n",
    "C.next = D\n",
    "\n",
    "def reverseLinkedListRecursive(head, prev = None):\n",
    "    if head is None:\n",
    "        return prev\n",
    "    nex = head.next\n",
    "    head.next = prev\n",
    "    return reverseLinkedListRecursive(nex, head)"
   ]
  },
  {
   "cell_type": "code",
   "execution_count": 47,
   "id": "8996943f",
   "metadata": {},
   "outputs": [
    {
     "name": "stdout",
     "output_type": "stream",
     "text": [
      "[1, 9, 8, 2]\n"
     ]
    }
   ],
   "source": [
    "print(linkedListValues(reverseLinkedListRecursive(A)))"
   ]
  },
  {
   "cell_type": "code",
   "execution_count": 59,
   "id": "39f665ee",
   "metadata": {},
   "outputs": [],
   "source": [
    "A = Node(2)\n",
    "B = Node(8)\n",
    "C = Node(9)\n",
    "D = Node(1)\n",
    "\n",
    "E = Node('E')\n",
    "F = Node('F')\n",
    "G = Node('G')\n",
    "H = Node('H')\n",
    "\n",
    "A.next = B\n",
    "B.next = C\n",
    "C.next = D\n",
    "\n",
    "E.next = F\n",
    "F.next = G\n",
    "G.next = H\n",
    "\n",
    "def zipperLists(head1, head2):\n",
    "    tail = head1\n",
    "    count = 0 \n",
    "    curr1 = head1.next\n",
    "    curr2 = head2\n",
    "    while curr1 is not None and curr2 is not None:\n",
    "        if count % 2 == 0:\n",
    "            nex2 = curr2.next\n",
    "            tail.next = curr2\n",
    "            tail = curr2\n",
    "            curr2 = nex2\n",
    "        else:\n",
    "            nex1 = curr1.next\n",
    "            tail.next = curr1\n",
    "            tail = curr1\n",
    "            curr1 = nex1\n",
    "        count += 1\n",
    "        \n",
    "    if curr1 is not None:\n",
    "        tail.next = curr1\n",
    "    if curr2 is not None:\n",
    "        tail.next = curr2\n",
    "    return head1"
   ]
  },
  {
   "cell_type": "code",
   "execution_count": 60,
   "id": "a087b83e",
   "metadata": {},
   "outputs": [],
   "source": [
    "headnode = zipperLists(A, E)"
   ]
  },
  {
   "cell_type": "code",
   "execution_count": 61,
   "id": "8da86103",
   "metadata": {},
   "outputs": [
    {
     "data": {
      "text/plain": [
       "[2, 'E', 8, 'F', 9, 'G', 1, 'H']"
      ]
     },
     "execution_count": 61,
     "metadata": {},
     "output_type": "execute_result"
    }
   ],
   "source": [
    "linkedListValues(headnode)"
   ]
  },
  {
   "cell_type": "code",
   "execution_count": 62,
   "id": "3b0f6014",
   "metadata": {},
   "outputs": [],
   "source": [
    "A = Node(2)\n",
    "B = Node(8)\n",
    "C = Node(9)\n",
    "D = Node(1)\n",
    "\n",
    "E = Node('E')\n",
    "F = Node('F')\n",
    "G = Node('G')\n",
    "H = Node('H')\n",
    "\n",
    "A.next = B\n",
    "B.next = C\n",
    "C.next = D\n",
    "\n",
    "E.next = F\n",
    "F.next = G\n",
    "G.next = H\n",
    "\n",
    "def zipperListsRecursive(head1, head2):\n",
    "    if head1 is None and head2 is None:\n",
    "        return None\n",
    "    if head1 is None:\n",
    "        return head2\n",
    "    if head2 is None:\n",
    "        return head1\n",
    "    \n",
    "    next1 = head1.next\n",
    "    next2 = head2.next\n",
    "    head1.next = head2\n",
    "    \n",
    "    head2.next = zipperListsRecursive(next1, next2)\n",
    "    return head1"
   ]
  },
  {
   "cell_type": "code",
   "execution_count": 63,
   "id": "6a8aaa8f",
   "metadata": {},
   "outputs": [],
   "source": [
    "othernode = zipperListsRecursive(A, E)"
   ]
  },
  {
   "cell_type": "code",
   "execution_count": 64,
   "id": "d2a99eb8",
   "metadata": {},
   "outputs": [
    {
     "data": {
      "text/plain": [
       "[2, 'E', 8, 'F', 9, 'G', 1, 'H']"
      ]
     },
     "execution_count": 64,
     "metadata": {},
     "output_type": "execute_result"
    }
   ],
   "source": [
    "linkedListValuesRecursive(othernode)"
   ]
  },
  {
   "cell_type": "code",
   "execution_count": null,
   "id": "c81c7080",
   "metadata": {},
   "outputs": [],
   "source": []
  }
 ],
 "metadata": {
  "kernelspec": {
   "display_name": "Python 3 (ipykernel)",
   "language": "python",
   "name": "python3"
  },
  "language_info": {
   "codemirror_mode": {
    "name": "ipython",
    "version": 3
   },
   "file_extension": ".py",
   "mimetype": "text/x-python",
   "name": "python",
   "nbconvert_exporter": "python",
   "pygments_lexer": "ipython3",
   "version": "3.9.13"
  }
 },
 "nbformat": 4,
 "nbformat_minor": 5
}
