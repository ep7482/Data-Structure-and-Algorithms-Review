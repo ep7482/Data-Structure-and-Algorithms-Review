{
 "cells": [
  {
   "cell_type": "markdown",
   "id": "2116c78e",
   "metadata": {},
   "source": [
    "## Queues\n",
    "<hr>\n",
    "A queue is a linear collection of elements that are maintained in a sequence and can be modified by the addition of elements at one end of the sequence (enqueue operation) and the removal of elements from the other end (dequeue operation). As an abstract data type, queues can be implemented using arrays or linked lists. FIFO (first in, first out). Examples, waiting in a line at the groceries. Breadth-first search is commonly implmented using queues. \n",
    "<br><br>\n",
    "\n",
    "When using arrays as queues, tell ineterviewer that the queue data structures assume to have efficient enqueue operations, since enqueue in arrays take `O(n)`.\n",
    "\n",
    "<img src=\"Images/queue.png\" width = 700>\n",
    "\n",
    "### Corner Cases\n",
    "<hr>\n",
    "<ul>\n",
    "    <li>Empty queue</li>\n",
    "    <li>Queue with one item</li>\n",
    "    <li>Queue with two items</li>\n",
    "</ul>"
   ]
  },
  {
   "cell_type": "code",
   "execution_count": null,
   "id": "bfef1008",
   "metadata": {},
   "outputs": [],
   "source": []
  }
 ],
 "metadata": {
  "kernelspec": {
   "display_name": "Python 3 (ipykernel)",
   "language": "python",
   "name": "python3"
  },
  "language_info": {
   "codemirror_mode": {
    "name": "ipython",
    "version": 3
   },
   "file_extension": ".py",
   "mimetype": "text/x-python",
   "name": "python",
   "nbconvert_exporter": "python",
   "pygments_lexer": "ipython3",
   "version": "3.9.13"
  }
 },
 "nbformat": 4,
 "nbformat_minor": 5
}
