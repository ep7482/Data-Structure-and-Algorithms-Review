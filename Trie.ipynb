{
 "cells": [
  {
   "cell_type": "markdown",
   "id": "18713b11",
   "metadata": {},
   "source": [
    "## Trie\n",
    "<hr>\n",
    "Tries are special trees (prefix trees) that make searching and storing strings more efficient. Tries have many practical applications, such as conducting searches and providing autocomplete. It is helpful to know these common applications so that you can easily identify when a problem can be efficiently solved using a trie.\n",
    "<br>\n",
    "\n",
    "Be familiar with implementing from scratch, a `Trie` class and its `add`, `remove` and `search` methods.\n",
    "\n",
    "### Time Complexity\n",
    "<hr>\n",
    "\n",
    "|Operation|Big-O|\n",
    "|:--------|:----|\n",
    "|Search|O(m)|\n",
    "|Insert|O(m)|\n",
    "|Remove|O(m)|\n",
    "\n",
    "where `m` is the length of the string used in the operation.\n",
    "\n",
    "### Corner Cases\n",
    "<hr>\n",
    "<ul>\n",
    "    <li>Searching for a string in an emtpy trie</li>\n",
    "    <li>Inserting emtpy strings into a trie</li>\n",
    "</ul>\n",
    "\n",
    "### Techniques\n",
    "<hr>\n",
    "\n",
    "Sometimes preprocessing a dictionary of words (given in a list) into a trie, will improve the efficiency of searching for a word of length `k`, among `n` words. Searching becomes `O(k)` instead of `O(n)`."
   ]
  },
  {
   "cell_type": "code",
   "execution_count": null,
   "id": "21e5d71e",
   "metadata": {},
   "outputs": [],
   "source": []
  }
 ],
 "metadata": {
  "kernelspec": {
   "display_name": "Python 3 (ipykernel)",
   "language": "python",
   "name": "python3"
  },
  "language_info": {
   "codemirror_mode": {
    "name": "ipython",
    "version": 3
   },
   "file_extension": ".py",
   "mimetype": "text/x-python",
   "name": "python",
   "nbconvert_exporter": "python",
   "pygments_lexer": "ipython3",
   "version": "3.9.13"
  }
 },
 "nbformat": 4,
 "nbformat_minor": 5
}
