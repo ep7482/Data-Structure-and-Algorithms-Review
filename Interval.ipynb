{
 "cells": [
  {
   "cell_type": "markdown",
   "id": "190319bb",
   "metadata": {},
   "source": [
    "## Intervals\n",
    "<hr>\n",
    "Interval questions are a subset of array questions where you are given an array of 2-element arrays (an interval) and the two values represent a start and an end value. Example:\n",
    "\n",
    "```python\n",
    "[[1,2],[4,7]]\n",
    "```\n",
    "### Things to Look Out for\n",
    "<hr>\n",
    "<ul>\n",
    "    <li>Clarify if [1,2] and [2,3] are considered overlapping intervals, it effects how you write equality checks</li>\n",
    "    <li>Clarify if a < b in interval [a,b]</li>\n",
    "</ul>\n",
    "\n",
    "### Corner Cases\n",
    "<hr>\n",
    "<ul>\n",
    "    <li>No intervals</li>\n",
    "    <li>Single intervals</li>\n",
    "    <li>Two intervals</li>\n",
    "    <li>Non-overlapping interval</li>\n",
    "    <li>An interval totally consumed with another interval</li>\n",
    "    <li>Duplicate intervals (exactly the same start and end)</li>\n",
    "    <li>Intervals which start right where another interval ends - [[1,2],[2,3]]</li>\n",
    "</ul>\n",
    "\n",
    "### Techniques\n",
    "<hr>\n",
    "\n",
    "#### Sort the array of intervals by its starting point\n",
    "A common routine for interval questions is to sort the array of intervals by each intervals starting value. Crucial for solving merge interval questions. \n",
    "\n",
    "#### Checking if 2 intervals overlap\n",
    "\n",
    "```python\n",
    "def is_overlap(a, b):\n",
    "    return a[0] < b[1] and b[0] < a[1]\n",
    "```\n",
    "\n",
    "#### Merging 2 intervals\n",
    "\n",
    "```python\n",
    "def merge_overlapping_intervals(a, b):\n",
    "    return [min(a[0], b[0]), max(a[1], b[1])]\n",
    "```"
   ]
  },
  {
   "cell_type": "code",
   "execution_count": null,
   "id": "0bf9e849",
   "metadata": {},
   "outputs": [],
   "source": []
  }
 ],
 "metadata": {
  "kernelspec": {
   "display_name": "Python 3 (ipykernel)",
   "language": "python",
   "name": "python3"
  },
  "language_info": {
   "codemirror_mode": {
    "name": "ipython",
    "version": 3
   },
   "file_extension": ".py",
   "mimetype": "text/x-python",
   "name": "python",
   "nbconvert_exporter": "python",
   "pygments_lexer": "ipython3",
   "version": "3.9.13"
  }
 },
 "nbformat": 4,
 "nbformat_minor": 5
}
