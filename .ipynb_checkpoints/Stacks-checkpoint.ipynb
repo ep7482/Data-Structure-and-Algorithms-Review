{
 "cells": [
  {
   "cell_type": "markdown",
   "id": "7b24a360",
   "metadata": {},
   "source": [
    "## Stack\n",
    "<hr>\n",
    "Stacks is a linear data structure that accompanies a principle know as LIFO (Last in, First out). Newer items are near the top, older items near the bottom. Real example is a website back button since website pages are in stacks.\n",
    "<br><br>\n",
    "Operations:\n",
    "<ul>\n",
    "    <li> Push - insert new element on the tope of the stack</li>\n",
    "    <li>Pop - Remove and return most recently added element, the element at the top of the stack</li>\n",
    "</ul>\n",
    "Stacks can be implemented using arrays or singly-linked lists. Stakcs are an important way of supporting nested or recursive function calls and is used to implement depth-first search. Depth-first search can be implemented using recursion of a manual stack. \n",
    "<br><br>\n",
    "Stacks can be implemented in python by using arrays or link lists. Arrays can be a bad way to represent stacks since arrays are contigous memory, meaning we must set the amount of memory for the array, but stacks can exceed this, they can grow infinity long. Linked list are good to use, since they can support infinite stack lenght or until you run out of memory on your computer.\n",
    "\n",
    "<img src=\"Images/stack.png\" width = 400>\n",
    "\n",
    "### Time Complexity\n",
    "<hr>\n",
    "\n",
    "|Operation|Big-O|\n",
    "|:--------|:----|\n",
    "|top/peek|O(1)|\n",
    "|push|O(1)|\n",
    "|pop|O(1)|\n",
    "|isEmpty|O(1)|\n",
    "|search|O(n)|\n",
    "\n",
    "### Corner Cases\n",
    "<hr>\n",
    "<ul>\n",
    "    <li>Empty stack. Popping from an empty stack</li>\n",
    "    <li>Stack with 1 item</li>\n",
    "    <li>Stack with 2 items</li>\n",
    "</ul>"
   ]
  },
  {
   "cell_type": "code",
   "execution_count": null,
   "id": "e0db274d",
   "metadata": {},
   "outputs": [],
   "source": []
  }
 ],
 "metadata": {
  "kernelspec": {
   "display_name": "Python 3 (ipykernel)",
   "language": "python",
   "name": "python3"
  },
  "language_info": {
   "codemirror_mode": {
    "name": "ipython",
    "version": 3
   },
   "file_extension": ".py",
   "mimetype": "text/x-python",
   "name": "python",
   "nbconvert_exporter": "python",
   "pygments_lexer": "ipython3",
   "version": "3.9.13"
  }
 },
 "nbformat": 4,
 "nbformat_minor": 5
}
