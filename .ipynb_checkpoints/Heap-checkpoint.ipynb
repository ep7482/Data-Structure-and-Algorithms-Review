{
 "cells": [
  {
   "cell_type": "markdown",
   "id": "de611c68",
   "metadata": {},
   "source": [
    "## Heap\n",
    "<hr>\n",
    "A heap is a specialized tree-based data structure which is a complete tree that satisfies the heap property. \n",
    "<ul>\n",
    "    <li><ins>Max heap</ins> - In a max heap the value of a node must be the greatest among the node values in its entire subtree. The same property must be recursively true for all nodes in the tree</li>\n",
    "    <li><ins>Min heap</ins> - In a min heap the value of a node must be the smallest among the node values in its entire subtree. The same property must be recursively true for all nodes in the tree</li>\n",
    "</ul>\n",
    "In the context of algorithm interviews, heaps and priority queues can be treated as the same data structure. A heap is a useful data structure when it is necessary to repeatedly remove the object with the highest (or lowest) priority, or when insertions need to be interspersed with removals of the root node.\n",
    "\n",
    "### Time Complexity\n",
    "<hr>\n",
    "\n",
    "|Operation|Big-O|\n",
    "|:--------|:----|\n",
    "|Find max/min|O(1)|\n",
    "|Insert|O(log(n))|\n",
    "|Remove|O(log(n))|\n",
    "|Heapify (create a heap out of given array of elements)|O(n)|\n",
    "\n",
    "### Techniques\n",
    "<hr>\n",
    "\n",
    "#### Mention of k\n",
    "If you see a top or lowest k being mentioned in the question, it is usually a signal that a heap can be used to solve the problem, such as in Top K Frequent Elements.\n",
    "<br><br>\n",
    "If you require the top k elements use a Min Heap of size k. Iterate through each element, pushing it into the heap (for python heapq, invert the value before pushing to find the max). Whenever the heap size exceeds k, remove the minimum element, that will guarantee that you have the k largest elements."
   ]
  },
  {
   "cell_type": "code",
   "execution_count": null,
   "id": "50a43fda",
   "metadata": {},
   "outputs": [],
   "source": []
  },
  {
   "cell_type": "code",
   "execution_count": null,
   "id": "25edcc15",
   "metadata": {},
   "outputs": [],
   "source": []
  },
  {
   "cell_type": "code",
   "execution_count": null,
   "id": "35fe6ebf",
   "metadata": {},
   "outputs": [],
   "source": []
  },
  {
   "cell_type": "code",
   "execution_count": null,
   "id": "7dd904ed",
   "metadata": {},
   "outputs": [],
   "source": []
  }
 ],
 "metadata": {
  "kernelspec": {
   "display_name": "Python 3 (ipykernel)",
   "language": "python",
   "name": "python3"
  },
  "language_info": {
   "codemirror_mode": {
    "name": "ipython",
    "version": 3
   },
   "file_extension": ".py",
   "mimetype": "text/x-python",
   "name": "python",
   "nbconvert_exporter": "python",
   "pygments_lexer": "ipython3",
   "version": "3.9.13"
  }
 },
 "nbformat": 4,
 "nbformat_minor": 5
}
