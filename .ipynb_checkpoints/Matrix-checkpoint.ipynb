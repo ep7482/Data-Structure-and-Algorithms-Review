{
 "cells": [
  {
   "cell_type": "markdown",
   "id": "019e8111",
   "metadata": {},
   "source": [
    "## Matrix\n",
    "<hr>\n",
    "<!-- <span style=\"color:green\"><font size=\"50px\"><b>Hello</b></font></span> -->\n",
    "A matrix is a multi dimensional array. For questions involving traversal or dynammic programming, making copies of arrays or empty arrays may be necessary.\n",
    "<br><br>\n",
    "Example:\n",
    "\n",
    "```python\n",
    "zero_matrix = [[0 for _ in range(len(matrix[0]))] for _ in range(len(matrix))]\n",
    "copy_matrix = [row[:] for row in matrix]\n",
    "```\n",
    "\n",
    "### Corner Cases\n",
    "<hr>\n",
    "<ul>\n",
    "    <li>Empty Matrix</li>\n",
    "    <li>1 x 1 matrix</li>\n",
    "    <li>Matrix with only one row or column</li>\n",
    "</ul>\n",
    "\n",
    "### Transposing Matrix\n",
    "<hr>\n",
    "The transpose of a matrix is found by interchanging its row into columns and columns into rows. Many grid-based games can be modeled, such as tic-tac-toe, sudoku, crossword, connect 4, battleship, etc. It is not uncommon to be asked to verify the whinning condition of the game. For games like tic-tac-toe, connect 4 and crosswords, where verification has to be done vertically and horizontally, one trick is to write code to verify the matrix for the horizontal cells, then transpose the matrix, and then use the same logic with the vertical cells that are now horizontal. \n",
    "\n",
    "```python\n",
    "transposed_matrix = zip(*matrix)\n",
    "```"
   ]
  },
  {
   "cell_type": "code",
   "execution_count": null,
   "id": "a92c26b2",
   "metadata": {},
   "outputs": [],
   "source": []
  }
 ],
 "metadata": {
  "kernelspec": {
   "display_name": "Python 3 (ipykernel)",
   "language": "python",
   "name": "python3"
  },
  "language_info": {
   "codemirror_mode": {
    "name": "ipython",
    "version": 3
   },
   "file_extension": ".py",
   "mimetype": "text/x-python",
   "name": "python",
   "nbconvert_exporter": "python",
   "pygments_lexer": "ipython3",
   "version": "3.9.13"
  }
 },
 "nbformat": 4,
 "nbformat_minor": 5
}
