{
 "cells": [
  {
   "cell_type": "markdown",
   "id": "66a40fb0",
   "metadata": {},
   "source": [
    "## Hash Tables\n",
    "<hr>\n",
    "A hash table is a data structure that implements an associate array abstract data type, a structure that can map keys to values. A hash table uses a hash function on an elment to compute an index, also called hash code, into an array of buckets or slots, from which the desired value can be found. During lookup, the key is hashed and the resulting hash indicates where the correspoding value is stored.\n",
    "<br>\n",
    "Hash collision:\n",
    "<ul>\n",
    "    <li>Separate chaining - A linked list is used for each value, so that it stores all the collided items.</li>\n",
    "    <li>Open addressing - All entry records are stored in the bucket array itself. When a new entry has to be inserted, the buckets are examined, starting with hash-to slot and proceeding in some probe space, until an occupied slot is found</li>\n",
    "</ul>\n",
    "\n",
    "### Time Complexity\n",
    "<hr>\n",
    "\n",
    "|Operation   |Big-O    |Note     |\n",
    "|:-----------|:--------|---------|\n",
    "|Acess| N/A | Accessing is not possible if the hash code is not known|\n",
    "|Search|O(1)|Average case|\n",
    "|Insert|O(1)|Average case|\n",
    "|Remove|O(1)|Average case|\n",
    "\n",
    "### Sample Questions\n",
    "<hr>\n",
    "<ul>\n",
    "    <li> Describe an implementation of least-used cache, and big-O notation of it</li>\n",
    "    <li>A question involving an API's integration with hash map where the buckets of a hash map are made of linked list</li>\n",
    "</ul>"
   ]
  },
  {
   "cell_type": "code",
   "execution_count": null,
   "id": "d12bcea1",
   "metadata": {},
   "outputs": [],
   "source": []
  },
  {
   "cell_type": "code",
   "execution_count": null,
   "id": "fd85818a",
   "metadata": {},
   "outputs": [],
   "source": []
  },
  {
   "cell_type": "code",
   "execution_count": null,
   "id": "1bf8069d",
   "metadata": {},
   "outputs": [],
   "source": []
  }
 ],
 "metadata": {
  "kernelspec": {
   "display_name": "Python 3 (ipykernel)",
   "language": "python",
   "name": "python3"
  },
  "language_info": {
   "codemirror_mode": {
    "name": "ipython",
    "version": 3
   },
   "file_extension": ".py",
   "mimetype": "text/x-python",
   "name": "python",
   "nbconvert_exporter": "python",
   "pygments_lexer": "ipython3",
   "version": "3.9.13"
  }
 },
 "nbformat": 4,
 "nbformat_minor": 5
}
