{
 "cells": [
  {
   "cell_type": "markdown",
   "id": "9bcbee13",
   "metadata": {},
   "source": [
    "### Template \n",
    "\n",
    "<hr>\n",
    "\n",
    "Paragraph\n",
    "\n",
    "#### Example 1:\n",
    "\n",
    "><b>Input: </b><br>\n",
    "<b>Output: </b><br>\n",
    "<b>Explanation: </b>\n",
    "\n",
    "#### Example 2:\n",
    "\n",
    "><b>Input: </b><br>\n",
    "<b>Ouput: </b><br>\n",
    "<b>Explanation: </b>\n",
    "\n",
    "#### Example 3:\n",
    "\n",
    "><b>Input: </b><br>\n",
    "<b>Ouput: </b><br>\n",
    "<b>Explanation: </b>\n",
    "\n",
    "#### Constraints:\n",
    "><ul>\n",
    "    <li></li>\n",
    "    <li></li>\n",
    "</ul>"
   ]
  },
  {
   "cell_type": "code",
   "execution_count": 1,
   "id": "2b1297dd",
   "metadata": {},
   "outputs": [],
   "source": [
    "import matplotlib.pyplot as plt\n",
    "import numpy as np"
   ]
  },
  {
   "cell_type": "markdown",
   "id": "fc02ca82",
   "metadata": {},
   "source": [
    "# Data Structures and Algorithms Review\n",
    "\n",
    "## Table of Contents\n",
    "<hr>\n",
    "\n",
    ">1. [Arrays](./Arrays.ipynb)\n",
    "2. [Strings](./Strings.ipynb)\n",
    "3. [Hash Tables](./Hash%20Tables.ipynb)\n",
    "4.[Sorting and Searching](./Sorting%20and%20Searching.ipynb)\n",
    "5.[Matrix](./Matrix.ipynb)\n",
    "6.[Stack](./Stacks.ipynb)\n",
    "7.[Linked List](./Linked%20List.ipynb)\n",
    "8.[Queues](./Queues.ipynb)\n",
    "9.[Intervals](./Interval.ipynb)\n",
    "10.[Trees](./Trees.ipynb)\n",
    "11.[Graph](./Graph.ipynb)\n",
    "12.[Heap](./Heap.ipynb)\n",
    "13.[Trie](./Trie.ipynb)\n",
    "14.[Dynamic Programming](./Dynamic%20Programming.ipynb)\n",
    "15.[Binary](./Binary.ipynb)\n",
    "16.[Math](./Math.ipynb)\n",
    "17.[Geometry](./Geometry.ipynb)"
   ]
  },
  {
   "cell_type": "code",
   "execution_count": null,
   "id": "664356cc",
   "metadata": {},
   "outputs": [],
   "source": []
  }
 ],
 "metadata": {
  "kernelspec": {
   "display_name": "Python 3 (ipykernel)",
   "language": "python",
   "name": "python3"
  },
  "language_info": {
   "codemirror_mode": {
    "name": "ipython",
    "version": 3
   },
   "file_extension": ".py",
   "mimetype": "text/x-python",
   "name": "python",
   "nbconvert_exporter": "python",
   "pygments_lexer": "ipython3",
   "version": "3.9.13"
  }
 },
 "nbformat": 4,
 "nbformat_minor": 5
}
