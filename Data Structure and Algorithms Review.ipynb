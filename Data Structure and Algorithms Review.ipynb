{
 "cells": [
  {
   "cell_type": "code",
   "execution_count": 1,
   "id": "2b1297dd",
   "metadata": {},
   "outputs": [],
   "source": [
    "import matplotlib.pyplot as plt\n",
    "import numpy as np"
   ]
  },
  {
   "cell_type": "markdown",
   "id": "1936514b",
   "metadata": {},
   "source": [
    "## Arrays\n",
    "<hr>\n",
    "\n",
    "Elements are stored in a contiguous memory locations.\n",
    "<br>\n",
    "<ul>\n",
    "    <li>Subarry - range of contiguous values within an array.</li>\n",
    "    <li>Subsequence - a sequence that can be derived from the given sequence by deleting some or no elements without changing the order of the remaining elements.</li>\n",
    "</ul>\n",
    "<br>\n",
    "\n",
    "### Time complexity\n",
    "<hr>\n",
    "\n",
    "| Operation   | Big-O        |\n",
    "|:------------|:-------------|\n",
    "| Acess       | O(1)         |\n",
    "| Search      | O(n)         |\n",
    "| Sorted Arr  | O(log(n))    |\n",
    "| Remove      | O(n)         |\n",
    "| Insert      | O(n)         |\n",
    "| Remove(end) | O(1)         |\n",
    "| Insert(end) | O(1)         |\n",
    "<br>\n",
    "\n",
    "### Corner Cases\n",
    "\n",
    "<hr>\n",
    "\n",
    "<ul>\n",
    "    <li> Empty Sequence </li>\n",
    "    <li> Sequence with 1 or 2 elements </li>\n",
    "    <li> Sequence with repeated elements </li>\n",
    "    <li> Duplicated values in the sequence </li>\n",
    "</ul>\n",
    "\n",
    "### Techniques\n",
    "<hr>\n",
    "\n",
    "#### Sliding Window\n",
    "Two pointers move in the same direction will never overtake each other. Time complexity is `O(n)`. Esures that each value is only visited at most twice and the time complexity is `O(n)`. Applies to subarray/substring problems\n",
    "\n",
    "#### Two Pointers\n",
    "A move general version of sliding window where the pointers can cross each other and can be on different arrays. When processing 2 arrays, have one index per array (pointer) to traverse/compare both of them, incrementing one of the pointers when relevent.\n",
    "\n",
    "#### Traversing from the right\n",
    "Go right to left when traversing an array or string\n",
    "<br>\n",
    "Two ways in python: \n",
    "<br>\n",
    "```python\n",
    "for val in array[::-1]:\n",
    "``` \n",
    "or\n",
    "\n",
    "```python\n",
    "for vale in reversed(array):\n",
    "```\n",
    "\n",
    "#### Sorting the Array\n",
    "If array is sorted or partially sorted? If it is, some form of binary search should be possible. Faster than `O(n)`. Can you sort the array? If you can, it could make the question simplier, unless index order is important.\n",
    "\n",
    "#### Precomputation\n",
    "If sum or product of subarray needed, computing while traversing using a variable or hashing.\n",
    "\n",
    "#### Index as a hash key\n",
    "Given a sequence and interviewer asks for `O(1)` space, it might be possible to use the array itself as a hash table.\n",
    "\n",
    "#### Traversing the array more than once\n",
    "Help solve the problem in `O(n)`\n"
   ]
  },
  {
   "cell_type": "markdown",
   "id": "6325633e",
   "metadata": {},
   "source": [
    "## Strings\n",
    "<hr>\n",
    "Many tips applied to arrays apply to strings.\n",
    "<br>\n",
    "<br>\n",
    "Common data structure for looking up strings:\n",
    "<ul>\n",
    "    <li>Trie/Prefix Tree</li>\n",
    "    <li>Suffix Tree</li>\n",
    "</ul>\n",
    "<br>\n",
    "Common string algorithms:\n",
    "<ul>\n",
    "    <li>Rabin Karp (for efficient searching or substring using a rolling hash)</li>\n",
    "    <li>KMP (for efficient searching of substring</li>\n",
    "</ul>\n",
    "<br>\n",
    "<br>\n",
    "\n",
    "### Time Complexity\n",
    "<hr>\n",
    "\n",
    "|Operation   | Big-O    |\n",
    "|:-----------|:---------|\n",
    "|Access      |O(1)      |\n",
    "|Search      |O(n)      |\n",
    "|Insert      |O(n)      |\n",
    "|Remove      |O(n)      |\n",
    "\n",
    "<br>\n",
    "Operations involving another string, assume string is length m.\n",
    "<br>\n",
    "\n",
    "|Operation        |Big-O             |Note            |\n",
    "|:----------------|:-----------------|:---------------|\n",
    "|Find Substring   |O(n * m)          |Most naive case.|\n",
    "|Concentrating Strings|O(n + m)      |                |\n",
    "|Slice            |O(m)              |                |\n",
    "|Split (by token) |O(n + m)          |                |\n",
    "|Strip (remove leading and trailing whitespace)|O(n)  |    |\n",
    "\n",
    "### Corner Cases\n",
    "<hr>\n",
    "\n",
    "<ul>\n",
    "    <li>Empty string</li>\n",
    "    <li>String with 1 or 2 characters</li>\n",
    "    <li>String with repeated characters</li>\n",
    "    <li>String with only distinct characters</li>\n",
    "</ul>\n",
    "\n",
    "### Techniques\n",
    "<hr>\n",
    "\n",
    "Most string questions will fall into one of these buckets:\n",
    "<ul>\n",
    "    <li>Counting characters</li>\n",
    "    <li>String of unique characters</li>\n",
    "    <li>Anagram</li>\n",
    "    <li>Palindrome</li>\n",
    "</ul>\n",
    "\n",
    "<br>\n",
    "\n",
    "#### Counting characters\n",
    "Often you will need to count the frequency of characters in a string. A hash table/map is a common way of doing this. The space complexity for a counter of a string of latin characters is `O(1)`, since there's only 26 letters available no matter how large the string is.\n",
    "<br>\n",
    "\n",
    "#### String of unique characters - use bit mask\n",
    "```python\n",
    "mask = 0\n",
    "for c in word:\n",
    "    mask |= (1 << (ord(c) - ord('a')))\n",
    "```\n",
    "\n",
    "If 2 strings have common characters \n",
    "```python\n",
    "mask_a & mask_b > 0\n",
    "```\n",
    ", if result is nonzero, 2 strings share common characters\n",
    "\n",
    "#### Anagram \n",
    "It is the result of rearranging the letters of a word or phrase to produce a new word or phrase, using the original letters once.\n",
    "<br>\n",
    "Approaches determine if two strings are anagrams:\n",
    "<ul>\n",
    "    <li>Sorting both strings should result in the same string. Takes O(n * log(n)) time and O(log(n)) space</li>\n",
    "    <li>If we map each character to a prime number and we multiply each mapped number together, anagrams should have the same multiple (prime factor decomposition). This takes O(n) time and O(1) space.</li>\n",
    "    <li>Frequency counting of characters will help determine if 2 strings are anagrams. This takes O(n) time and O(1) space.</li>\n",
    "</ul>\n",
    "\n",
    "#### Palindrome\n",
    "A word, phrase, number, or other sequence of characters which reads the same backwards and forwards.\n",
    "<ul>\n",
    "    <li>Reverse string and it should equal to itself</li>\n",
    "    <li>Two pointers- start and end, they should move inwards and should have the same character.</li>\n",
    "</ul>\n",
    "When a question is about counting the number of palindromes, a common trick is to have two pointers that move outwards, away from the middle. Note the palindromes can have even or odd length. For each middle pivot position, you need to check it twice. Once that includes the characters and once without.\n",
    "<ul>\n",
    "    <li> For substrings, you can terminate early once there is no match</li>\n",
    "    <li>For subsequence, use dynamic programming as there are overlapping subproblems</li>\n",
    "</ul>"
   ]
  },
  {
   "cell_type": "markdown",
   "id": "4f18c794",
   "metadata": {},
   "source": [
    "## Hash Tables"
   ]
  },
  {
   "cell_type": "markdown",
   "id": "163ce1d1",
   "metadata": {},
   "source": [
    "## Recursion"
   ]
  },
  {
   "cell_type": "markdown",
   "id": "25271404",
   "metadata": {},
   "source": [
    "## Sorting and Searching"
   ]
  },
  {
   "cell_type": "markdown",
   "id": "5508e707",
   "metadata": {},
   "source": [
    "## Matrix"
   ]
  },
  {
   "cell_type": "markdown",
   "id": "a1b070bc",
   "metadata": {},
   "source": [
    "## Stack"
   ]
  },
  {
   "cell_type": "markdown",
   "id": "6735a921",
   "metadata": {},
   "source": [
    "## Linked List"
   ]
  },
  {
   "cell_type": "markdown",
   "id": "57ad24fc",
   "metadata": {},
   "source": [
    "## Queues"
   ]
  },
  {
   "cell_type": "markdown",
   "id": "79a8f190",
   "metadata": {},
   "source": [
    "## Intervals"
   ]
  },
  {
   "cell_type": "markdown",
   "id": "d7693327",
   "metadata": {},
   "source": [
    "## Trees"
   ]
  },
  {
   "cell_type": "markdown",
   "id": "d0f38415",
   "metadata": {},
   "source": [
    "## Graphs"
   ]
  },
  {
   "cell_type": "markdown",
   "id": "79527a6e",
   "metadata": {},
   "source": [
    "## Heap"
   ]
  },
  {
   "cell_type": "markdown",
   "id": "2c9b1c3f",
   "metadata": {},
   "source": [
    "## Trie"
   ]
  },
  {
   "cell_type": "markdown",
   "id": "935408c4",
   "metadata": {},
   "source": [
    "## Dynamic Programming"
   ]
  },
  {
   "cell_type": "markdown",
   "id": "ed3ccb67",
   "metadata": {},
   "source": [
    "## Binary"
   ]
  },
  {
   "cell_type": "markdown",
   "id": "a4a4f38f",
   "metadata": {},
   "source": [
    "## Math"
   ]
  },
  {
   "cell_type": "markdown",
   "id": "f80d4c32",
   "metadata": {},
   "source": [
    "## Geometry"
   ]
  },
  {
   "cell_type": "code",
   "execution_count": null,
   "id": "395fb501",
   "metadata": {},
   "outputs": [],
   "source": []
  }
 ],
 "metadata": {
  "kernelspec": {
   "display_name": "Python 3 (ipykernel)",
   "language": "python",
   "name": "python3"
  },
  "language_info": {
   "codemirror_mode": {
    "name": "ipython",
    "version": 3
   },
   "file_extension": ".py",
   "mimetype": "text/x-python",
   "name": "python",
   "nbconvert_exporter": "python",
   "pygments_lexer": "ipython3",
   "version": "3.9.13"
  }
 },
 "nbformat": 4,
 "nbformat_minor": 5
}
