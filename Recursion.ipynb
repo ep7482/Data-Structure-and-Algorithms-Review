{
 "cells": [
  {
   "cell_type": "markdown",
   "id": "e42d41ac",
   "metadata": {},
   "source": [
    "## Recursion\n",
    "<hr>\n",
    "Recursion is a method of solving a computational problem where the solution depends on solutions of smaller instances of the same problem.\n",
    "<br>\n",
    "All recursive functions have 2 parts:\n",
    "<ol>\n",
    "    <li>A base case (or cases) defined, which defines when the recursion is stopped - otherwise it will go on forever</li>\n",
    "    <li>Breaking down the problem into smaller subproblems and invoking the recursive call</li>\n",
    "</ol>\n",
    "<br>\n",
    "Most common examples of recursion is the Fibonnacci sequence.\n",
    "<br>\n",
    "<ul>\n",
    "    <li>Base cases: fib(0) = 0 and fib(1) = 1</li>\n",
    "    <li>Recurrence relation: fib(i) = fib(i - 1) + fib(i - 2)</li>\n",
    "</ul>\n",
    "<br>\n",
    "\n",
    "```python\n",
    "def fib(n):\n",
    "    if n <= 1:\n",
    "        return n\n",
    "    return fib(n-1) + fib(n-2)\n",
    "```\n",
    "\n",
    "Algorithms that use recursion = binary search, merge sort, tree traversal, depth-first search, etc.\n",
    "<br><br>\n",
    "Recursion is the process of defining a problem (or the solution to a problem) in terms of (a simpler version of) itself.\n",
    "<br><br>\n",
    "Tail recursion is when the very last statement is calling the recursive algorithm. Tail recursion can be directly translated into loops.\n",
    "<br>\n",
    "Parts of a recursive algorithm:\n",
    "<ol>\n",
    "    <li>Base case (when to stop)</li>\n",
    "    <li>Work towards base case</li>\n",
    "    <li>Recrusive call (call ourselves)</li>\n",
    "</ol>\n",
    "\n",
    "### Things to look out for\n",
    "<hr>\n",
    "<ul>\n",
    "    <li>Always define a base case</li>\n",
    "    <li>Recursion is useful for permutations because it generates all combinations and tree-based questions. You should know how to generate all permutations of a sequence, as well as how to handle duplicates.</li>\n",
    "    <li>Recursion implicitly uses a stack. Hence all recursive approaches can be rewritten iteratively using a stack. Beware of cases where the recursion level goes too deep and causes stackoverflow. Recursion will never be space complexity O(1), unless there is tail-call optimization (TCO).</li>\n",
    "    <li>Number of base cases</li>\n",
    "</ul>\n",
    "\n",
    "### Corner Cases\n",
    "<hr>\n",
    "<ul>\n",
    "    <li>n = 0</li>\n",
    "    <li>n = 1</li>\n",
    "    <li>Make sureyou have enough base cases to cover all possible invocation of the recursive function.</li>\n",
    "</ul>\n",
    "\n",
    "### Techniques\n",
    "<hr>\n",
    "\n",
    "Memoization- you may be computing the result from previously computed inputs. Memoization can greatly improve the efficiency of the algorithm and the time complexity becomes `O(n)`."
   ]
  },
  {
   "cell_type": "code",
   "execution_count": null,
   "id": "9b1767f4",
   "metadata": {},
   "outputs": [],
   "source": []
  },
  {
   "cell_type": "code",
   "execution_count": null,
   "id": "7f6b66ff",
   "metadata": {},
   "outputs": [],
   "source": []
  },
  {
   "cell_type": "code",
   "execution_count": null,
   "id": "4c6f7787",
   "metadata": {},
   "outputs": [],
   "source": []
  },
  {
   "cell_type": "code",
   "execution_count": null,
   "id": "d392887e",
   "metadata": {},
   "outputs": [],
   "source": []
  }
 ],
 "metadata": {
  "kernelspec": {
   "display_name": "Python 3 (ipykernel)",
   "language": "python",
   "name": "python3"
  },
  "language_info": {
   "codemirror_mode": {
    "name": "ipython",
    "version": 3
   },
   "file_extension": ".py",
   "mimetype": "text/x-python",
   "name": "python",
   "nbconvert_exporter": "python",
   "pygments_lexer": "ipython3",
   "version": "3.9.13"
  }
 },
 "nbformat": 4,
 "nbformat_minor": 5
}
